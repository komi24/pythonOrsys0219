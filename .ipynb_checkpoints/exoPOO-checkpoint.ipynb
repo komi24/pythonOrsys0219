{
 "cells": [
  {
   "cell_type": "code",
   "execution_count": 15,
   "metadata": {},
   "outputs": [
    {
     "name": "stdout",
     "output_type": "stream",
     "text": [
      "Bonjour Ilona\n",
      "Je m'appelle Ilona Wostiek et j'ai 19 ans\n"
     ]
    }
   ],
   "source": [
    "class Personne:\n",
    "    \"\"\"\n",
    "    Classe Personne representant une personne avec un \n",
    "    nom et un prenom.\n",
    "    Cette personne peut se presenter et dire bonjour\n",
    "    attributs : \n",
    "        - nom\n",
    "        - prenom\n",
    "        - age\n",
    "    methodes :\n",
    "        - dire_bonjour : dit bonjour à une autre personne\n",
    "        - se_presenter : se presente en fournissant son nom et son prenom\n",
    "    \"\"\"\n",
    "    def __init__(self, prenom, nom, age=19):\n",
    "        \"\"\"\n",
    "        :param prenom: str\n",
    "        :param nom:   str\n",
    "        :param age:   int\n",
    "        \"\"\"\n",
    "        assert isinstance(prenom, str)\n",
    "        assert isinstance(nom, str)\n",
    "        assert isinstance(age, int)\n",
    "        self.prenom = prenom\n",
    "        self.nom = nom\n",
    "        self.age = age\n",
    "        \n",
    "    def dire_bonjour(self, autre_personne):\n",
    "        \"\"\"\n",
    "        Affiche : 'Bonjour [le nom de l'autre personne]'\n",
    "        \"\"\"\n",
    "        assert isinstance(autre_personne, Personne)\n",
    "        assert self.age >= 18, \"Trop jeune pour dire bonjour\"\n",
    "        print(\"Bonjour \" + autre_personne.prenom)\n",
    "    \n",
    "    def se_presenter(self):\n",
    "        \"\"\"\n",
    "        Affiche : Je m'appelle [prenom] [nom] et j'ai [age] ans\n",
    "        \"\"\"\n",
    "        print(\"Je m'appelle %s %s et j'ai %d ans\"%\n",
    "              (self.prenom, self.nom, self.age))\n",
    "\n",
    "# Pour utiliser nos methodes il faut creer des instances\n",
    "une_personne = Personne(\"Laurent\", \"Klishko\")\n",
    "une_autre_personne = Personne(\"Ilona\", \"Wostiek\")\n",
    "une_personne.dire_bonjour(une_autre_personne)\n",
    "une_autre_personne.se_presenter()"
   ]
  },
  {
   "cell_type": "code",
   "execution_count": 16,
   "metadata": {},
   "outputs": [
    {
     "name": "stdout",
     "output_type": "stream",
     "text": [
      "Hello\n",
      "Je m'appelle Mickael BOLNET et j'ai 27 ans\n"
     ]
    }
   ],
   "source": [
    "class Client(Personne):\n",
    "    def __init__(self, prenom, nom, age=18, solde=4500):\n",
    "        \"\"\"\n",
    "        On rapelle le constructeur de Personne\n",
    "        dans la classe fille Client afin d'initialiser\n",
    "        prenom, nom et age\n",
    "        \"\"\" \n",
    "        Personne.__init__(self, prenom, nom, age)\n",
    "        self.compte = Compte(...)\n",
    "        \n",
    "    def say_hello(self):\n",
    "        print(\"Hello\")\n",
    "\n",
    "un_client = Client(\"Mickael\", \"BOLNET\", 27)\n",
    "un_client.say_hello()\n",
    "un_client.se_presenter()"
   ]
  },
  {
   "cell_type": "code",
   "execution_count": null,
   "metadata": {},
   "outputs": [],
   "source": [
    "class Compte:\n",
    "    \"\"\"\n",
    "    attribut :\n",
    "        proprio: Client\n",
    "        solde:   int\n",
    "    methodes :\n",
    "        retrait(valeur)\n",
    "        depot(valeur)\n",
    "    \"\"\""
   ]
  }
 ],
 "metadata": {
  "kernelspec": {
   "display_name": "Python 3",
   "language": "python",
   "name": "python3"
  },
  "language_info": {
   "codemirror_mode": {
    "name": "ipython",
    "version": 3
   },
   "file_extension": ".py",
   "mimetype": "text/x-python",
   "name": "python",
   "nbconvert_exporter": "python",
   "pygments_lexer": "ipython3",
   "version": "3.6.5"
  }
 },
 "nbformat": 4,
 "nbformat_minor": 2
}
