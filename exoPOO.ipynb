{
 "cells": [
  {
   "cell_type": "code",
   "execution_count": 15,
   "metadata": {},
   "outputs": [
    {
     "name": "stdout",
     "output_type": "stream",
     "text": [
      "Bonjour Ilona\n",
      "Je m'appelle Ilona Wostiek et j'ai 19 ans\n"
     ]
    }
   ],
   "source": [
    "class Personne:\n",
    "    \"\"\"\n",
    "    Classe Personne representant une personne avec un \n",
    "    nom et un prenom.\n",
    "    Cette personne peut se presenter et dire bonjour\n",
    "    attributs : \n",
    "        - nom\n",
    "        - prenom\n",
    "        - age\n",
    "    methodes :\n",
    "        - dire_bonjour : dit bonjour à une autre personne\n",
    "        - se_presenter : se presente en fournissant son nom et son prenom\n",
    "    \"\"\"\n",
    "    def __init__(self, prenom, nom, age=19):\n",
    "        \"\"\"\n",
    "        :param prenom: str\n",
    "        :param nom:   str\n",
    "        :param age:   int\n",
    "        \"\"\"\n",
    "        assert isinstance(prenom, str)\n",
    "        assert isinstance(nom, str)\n",
    "        assert isinstance(age, int)\n",
    "        self.prenom = prenom\n",
    "        self.nom = nom\n",
    "        self.age = age\n",
    "        \n",
    "    def dire_bonjour(self, autre_personne):\n",
    "        \"\"\"\n",
    "        Affiche : 'Bonjour [le nom de l'autre personne]'\n",
    "        \"\"\"\n",
    "        assert isinstance(autre_personne, Personne)\n",
    "        assert self.age >= 18, \"Trop jeune pour dire bonjour\"\n",
    "        print(\"Bonjour \" + autre_personne.prenom)\n",
    "    \n",
    "    def se_presenter(self):\n",
    "        \"\"\"\n",
    "        Affiche : Je m'appelle [prenom] [nom] et j'ai [age] ans\n",
    "        \"\"\"\n",
    "        print(\"Je m'appelle %s %s et j'ai %d ans\"%\n",
    "              (self.prenom, self.nom, self.age))\n",
    "\n",
    "# Pour utiliser nos methodes il faut creer des instances\n",
    "une_personne = Personne(\"Laurent\", \"Klishko\")\n",
    "une_autre_personne = Personne(\"Ilona\", \"Wostiek\")\n",
    "une_personne.dire_bonjour(une_autre_personne)\n",
    "une_autre_personne.se_presenter()"
   ]
  },
  {
   "cell_type": "code",
   "execution_count": 17,
   "metadata": {},
   "outputs": [],
   "source": [
    "class ActeurBancaire:\n",
    "    def __init__(self, id_bancaire):\n",
    "        self.id_bancaire = id_bancaire\n",
    "        \n",
    "    def banissement_a_vie(self):\n",
    "        pass\n",
    "    \n",
    "class Client(Personne, ActeurBancaire):\n",
    "    def __init__(self, prenom, nom, age=18, solde=4500):\n",
    "        \"\"\"\n",
    "        On rapelle le constructeur de Personne\n",
    "        dans la classe fille Client afin d'initialiser\n",
    "        prenom, nom et age\n",
    "        \"\"\" \n",
    "        Personne.__init__(self, prenom, nom, age)\n",
    "        ActeurBancaire.__init__(self, id_bank)\n",
    "        self.compte = Compte(self, solde)\n",
    "        \n",
    "    def say_hello(self):\n",
    "        print(\"Hello\")\n",
    "\n"
   ]
  },
  {
   "cell_type": "code",
   "execution_count": 18,
   "metadata": {},
   "outputs": [],
   "source": [
    "class Compte:\n",
    "    \"\"\"\n",
    "    attribut :\n",
    "        proprio: Client\n",
    "        solde:   int\n",
    "    methodes :\n",
    "        retrait(valeur)\n",
    "        depot(valeur)\n",
    "    \"\"\"\n",
    "    def __init__(self, proprio, solde):\n",
    "        self.proprio = proprio\n",
    "        self.solde = solde\n",
    "        \n"
   ]
  },
  {
   "cell_type": "code",
   "execution_count": 34,
   "metadata": {},
   "outputs": [
    {
     "name": "stdout",
     "output_type": "stream",
     "text": [
      "Hello\n",
      "Je m'appelle Mickael BOLNET et j'ai 27 ans\n",
      "4500\n"
     ]
    },
    {
     "data": {
      "text/plain": [
       "['__class__',\n",
       " '__delattr__',\n",
       " '__dict__',\n",
       " '__dir__',\n",
       " '__doc__',\n",
       " '__eq__',\n",
       " '__format__',\n",
       " '__ge__',\n",
       " '__getattribute__',\n",
       " '__gt__',\n",
       " '__hash__',\n",
       " '__init__',\n",
       " '__init_subclass__',\n",
       " '__le__',\n",
       " '__lt__',\n",
       " '__module__',\n",
       " '__ne__',\n",
       " '__new__',\n",
       " '__reduce__',\n",
       " '__reduce_ex__',\n",
       " '__repr__',\n",
       " '__setattr__',\n",
       " '__sizeof__',\n",
       " '__str__',\n",
       " '__subclasshook__',\n",
       " '__weakref__',\n",
       " 'age',\n",
       " 'compte',\n",
       " 'dire_bonjour',\n",
       " 'nom',\n",
       " 'prenom',\n",
       " 'say_hello',\n",
       " 'se_presenter']"
      ]
     },
     "execution_count": 34,
     "metadata": {},
     "output_type": "execute_result"
    }
   ],
   "source": [
    "un_client = Client(\"Mickael\", \"BOLNET\", 27)\n",
    "un_client.say_hello()\n",
    "un_client.se_presenter()\n",
    "print(un_client.compte.solde)\n",
    "\n",
    "# dir(un_client)"
   ]
  },
  {
   "cell_type": "code",
   "execution_count": 22,
   "metadata": {},
   "outputs": [
    {
     "data": {
      "text/plain": [
       "'abjadjda'"
      ]
     },
     "execution_count": 22,
     "metadata": {},
     "output_type": "execute_result"
    }
   ],
   "source": [
    "\"a\".join(\"abjndjdn\".split(\"n\"))"
   ]
  },
  {
   "cell_type": "code",
   "execution_count": 26,
   "metadata": {},
   "outputs": [
    {
     "name": "stdout",
     "output_type": "stream",
     "text": [
      "ab\\\n",
      "ab\"cd\n",
      "ab\"\n"
     ]
    }
   ],
   "source": [
    "print(\"ab\\\\\")\n",
    "print(\"ab\\\"cd\")\n",
    "print(\"ab\\\"\")"
   ]
  },
  {
   "cell_type": "markdown",
   "metadata": {},
   "source": [
    "## KATA \n",
    "#### Horizontal flip and Vertical flip\n",
    "https://www.codewars.com/kata/moves-in-squared-strings-i/train/python"
   ]
  },
  {
   "cell_type": "code",
   "execution_count": 33,
   "metadata": {},
   "outputs": [
    {
     "name": "stdout",
     "output_type": "stream",
     "text": [
      "abcd\n",
      "efgh\n",
      "ijkl\n",
      "mnop\n",
      " \n",
      "ponm\n",
      "lkji\n",
      "hgfe\n",
      "dcba\n",
      "['abcd', 'efgh', 'ijkl', 'mnop']\n",
      "['mnop', 'ijkl', 'efgh', 'abcd']\n",
      "mnop\n",
      "ijkl\n",
      "efgh\n",
      "abcd\n"
     ]
    }
   ],
   "source": [
    "s = \"abcd\\nefgh\\nijkl\\nmnop\"\n",
    "print(s)\n",
    "print(\" \")\n",
    "print(s[::-1])\n",
    "print(s.split(\"\\n\"))\n",
    "print(s.split(\"\\n\")[::-1])\n",
    "print(\"\\n\".join(s.split(\"\\n\")[::-1]))"
   ]
  },
  {
   "cell_type": "code",
   "execution_count": 32,
   "metadata": {},
   "outputs": [
    {
     "name": "stdout",
     "output_type": "stream",
     "text": [
      "---x---x---\n"
     ]
    }
   ],
   "source": [
    "a = \"x\"\n",
    "\n",
    "liste = [\"---\",\"---\", \"---\"]\n",
    "print(a.join(liste))"
   ]
  },
  {
   "cell_type": "code",
   "execution_count": null,
   "metadata": {},
   "outputs": [],
   "source": []
  }
 ],
 "metadata": {
  "kernelspec": {
   "display_name": "Python 3",
   "language": "python",
   "name": "python3"
  },
  "language_info": {
   "codemirror_mode": {
    "name": "ipython",
    "version": 3
   },
   "file_extension": ".py",
   "mimetype": "text/x-python",
   "name": "python",
   "nbconvert_exporter": "python",
   "pygments_lexer": "ipython3",
   "version": "3.6.5"
  }
 },
 "nbformat": 4,
 "nbformat_minor": 2
}
